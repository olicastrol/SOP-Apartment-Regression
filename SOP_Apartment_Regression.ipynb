{
 "cells": [
  {
   "cell_type": "code",
   "execution_count": 1,
   "id": "dd8bdb6b",
   "metadata": {},
   "outputs": [],
   "source": [
    "#Importing the necessary libraries, numpy, pandas, and necessary sklearn libraries to build the regression models\n",
    "\n",
    "import numpy as np\n",
    "import pandas as pd\n",
    "from sklearn.impute import KNNImputer\n",
    "from sklearn.linear_model import LinearRegression\n",
    "from sklearn.ensemble import GradientBoostingRegressor\n",
    "from sklearn.ensemble import RandomForestRegressor\n",
    "from sklearn.metrics import root_mean_squared_error, r2_score\n",
    "from sklearn.model_selection import train_test_split, cross_val_score"
   ]
  },
  {
   "cell_type": "code",
   "execution_count": 78,
   "id": "6925d80e",
   "metadata": {},
   "outputs": [],
   "source": [
    "#Reading the csv containing the property data\n",
    "\n",
    "property = pd.read_csv('property.csv', encoding= 'unicode_escape')"
   ]
  },
  {
   "cell_type": "code",
   "execution_count": 79,
   "id": "94dd29e3",
   "metadata": {},
   "outputs": [],
   "source": [
    "#Forcing variables into numeric values, rendering '-' strings as NaN\n",
    "\n",
    "property['Area in m²'] = pd.to_numeric(property['Area in m²'], errors='coerce')\n",
    "property['Price'] = pd.to_numeric(property['Price'], errors='coerce')"
   ]
  },
  {
   "cell_type": "code",
   "execution_count": 80,
   "id": "7787c17d",
   "metadata": {},
   "outputs": [],
   "source": [
    "#Initializing the KNN imputer and creating a new dataframe out of imputed values\n",
    "\n",
    "data_for_imputation = property[['Area in m²', 'Price']]\n",
    "imputer = KNNImputer(n_neighbors=7)\n",
    "imputed_data = imputer.fit_transform(data_for_imputation)\n",
    "imputed_df = pd.DataFrame(imputed_data, columns=['Area in m²', 'Price'])"
   ]
  },
  {
   "cell_type": "code",
   "execution_count": 81,
   "id": "75e8cf00",
   "metadata": {},
   "outputs": [],
   "source": [
    "#Replacing columns in the original dataframe with imputed dataframe columns\n",
    "\n",
    "property['Area in m²'] = imputed_df['Area in m²']\n",
    "property['Price'] = imputed_df['Price']"
   ]
  },
  {
   "cell_type": "code",
   "execution_count": 82,
   "id": "f636c98d",
   "metadata": {
    "scrolled": true
   },
   "outputs": [
    {
     "data": {
      "text/plain": [
       "Address          0\n",
       "Bedrooms         0\n",
       "Bathrooms        0\n",
       "Parking Spots    0\n",
       "Study            0\n",
       "Area in m²       0\n",
       "Price            0\n",
       "dtype: int64"
      ]
     },
     "execution_count": 82,
     "metadata": {},
     "output_type": "execute_result"
    }
   ],
   "source": [
    "#Confirming that there are no longer any null values\n",
    "\n",
    "property.isna().sum()"
   ]
  },
  {
   "cell_type": "code",
   "execution_count": 83,
   "id": "5b828043",
   "metadata": {
    "scrolled": true
   },
   "outputs": [],
   "source": [
    "#Splitting the dataframe into two, one containing the features and one containing just the prices (target variable), and then partitioning the data\n",
    "\n",
    "x = property.drop(['Address', 'Price'], axis=1)\n",
    "y = property['Price']\n",
    "\n",
    "x_train, x_test, y_train, y_test = train_test_split(x, y, test_size=0.45, random_state=24)"
   ]
  },
  {
   "cell_type": "code",
   "execution_count": 84,
   "id": "93965f56",
   "metadata": {},
   "outputs": [],
   "source": [
    "#Linear regression model\n",
    "\n",
    "linear_model = LinearRegression()\n",
    "linear_model.fit(x_train, y_train)\n",
    "y_pred_linear = linear_model.predict(x_test)"
   ]
  },
  {
   "cell_type": "code",
   "execution_count": 85,
   "id": "1e165020",
   "metadata": {},
   "outputs": [],
   "source": [
    "#Gradient boosting model\n",
    "\n",
    "gbr_model = GradientBoostingRegressor(n_estimators=100, learning_rate=0.1)\n",
    "gbr_model.fit(x_train, y_train)\n",
    "y_pred_gb = gbr_model.predict(x_test)"
   ]
  },
  {
   "cell_type": "code",
   "execution_count": 86,
   "id": "77197af3",
   "metadata": {},
   "outputs": [],
   "source": [
    "#Random forest model\n",
    "\n",
    "rf_model = RandomForestRegressor(n_estimators=100, max_depth=10) \n",
    "rf_model.fit(x_train, y_train)\n",
    "y_pred_knn = rf_model.predict(x_test)"
   ]
  },
  {
   "cell_type": "code",
   "execution_count": 87,
   "id": "7a44e94e",
   "metadata": {},
   "outputs": [],
   "source": [
    "#Creating an imaginary test apartment to predict the price of\n",
    "\n",
    "testapart = {\n",
    "    'Bedrooms': [4],\n",
    "    'Bathrooms': [3],\n",
    "    'Parking Spots': [2],\n",
    "    'Study': [1],\n",
    "    'Area in m²': [200]\n",
    "}\n",
    "\n",
    "test = pd.DataFrame(testapart)"
   ]
  },
  {
   "cell_type": "code",
   "execution_count": 88,
   "id": "59ccd985",
   "metadata": {
    "scrolled": true
   },
   "outputs": [
    {
     "name": "stdout",
     "output_type": "stream",
     "text": [
      "Linear Regression: 1410216\n",
      "Gradient Boosting: 1499871\n",
      "Random Forest: 1604838\n"
     ]
    }
   ],
   "source": [
    "#Predicting the prices using the three aforementioned methods\n",
    "\n",
    "predicted_price_linear = linear_model.predict(test)\n",
    "predicted_price_gb = gbr_model.predict(test)\n",
    "predicted_price_knn = rf_model.predict(test)\n",
    "\n",
    "print('Linear Regression:',round(predicted_price_linear[0]))\n",
    "print('Gradient Boosting:',round(predicted_price_gb[0]))\n",
    "print('Random Forest:',round(predicted_price_knn[0]))"
   ]
  },
  {
   "cell_type": "code",
   "execution_count": 89,
   "id": "b5f94ff9",
   "metadata": {},
   "outputs": [
    {
     "name": "stdout",
     "output_type": "stream",
     "text": [
      "Model: Linear Regression\n",
      "Cross-Validation RMSE: 127168.68\n",
      "Test RMSE: 77612.81\n",
      "R-squared: 0.812\n",
      "==============================\n",
      "Model: Gradient Boosting Regression\n",
      "Cross-Validation RMSE: 117681.02\n",
      "Test RMSE: 70463.59\n",
      "R-squared: 0.845\n",
      "==============================\n",
      "Model: Random Forest Regression\n",
      "Cross-Validation RMSE: 106885.98\n",
      "Test RMSE: 73915.64\n",
      "R-squared: 0.829\n",
      "==============================\n"
     ]
    }
   ],
   "source": [
    "models = {\n",
    "    'Linear Regression': linear_model,\n",
    "    'Gradient Boosting Regression': gbr_model,\n",
    "    'Random Forest Regression': rf_model\n",
    "}\n",
    "\n",
    "for name, model in models.items():\n",
    "    \n",
    "    scores = cross_val_score(model, x_train, y_train, cv=10, scoring='neg_mean_squared_error')\n",
    "    rmse_scores = (-scores) ** 0.5\n",
    "    model.fit(x_train, y_train)\n",
    "    y_pred = model.predict(x_test)\n",
    "    rmse = round(root_mean_squared_error(y_test, y_pred),2)\n",
    "    r2 = round(r2_score(y_test, y_pred),3)\n",
    "\n",
    "    print(f\"Model: {name}\")\n",
    "    print(f\"Cross-Validation RMSE: {round(rmse_scores.mean(),2)}\")\n",
    "    print(f\"Test RMSE: {rmse}\")\n",
    "    print(f\"R-squared: {r2}\")\n",
    "    print(\"=\"*30)\n",
    "    \n",
    "'''We have concluded that the best model to predict apartment prices in Sydney Olympic Park is the Gradient Boosting Regression Model,\n",
    "    with an RMSE value of 70463.59 and an R-squared value of 0.845.'''"
   ]
  }
 ],
 "metadata": {
  "kernelspec": {
   "display_name": "base",
   "language": "python",
   "name": "python3"
  },
  "language_info": {
   "codemirror_mode": {
    "name": "ipython",
    "version": 3
   },
   "file_extension": ".py",
   "mimetype": "text/x-python",
   "name": "python",
   "nbconvert_exporter": "python",
   "pygments_lexer": "ipython3",
   "version": "3.11.7"
  }
 },
 "nbformat": 4,
 "nbformat_minor": 5
}
